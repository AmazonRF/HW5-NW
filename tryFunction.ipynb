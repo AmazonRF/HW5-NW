{
 "cells": [
  {
   "cell_type": "code",
   "execution_count": 1,
   "metadata": {},
   "outputs": [],
   "source": [
    "from typing import Tuple\n",
    "import numpy as np\n",
    "from align import NeedlemanWunsch, read_fasta\n"
   ]
  },
  {
   "cell_type": "code",
   "execution_count": 2,
   "metadata": {},
   "outputs": [],
   "source": [
    "def _read_sub_matrix(sub_matrix_file):\n",
    "        \"\"\"\n",
    "        DO NOT MODIFY THIS METHOD! IT IS ALREADY COMPLETE!\n",
    "\n",
    "        This function reads in a scoring matrix from any matrix like file.\n",
    "        Where there is a line of the residues followed by substitution matrix.\n",
    "        This file also saves the alphabet list attribute.\n",
    "\n",
    "        Parameters:\n",
    "            sub_matrix_file: str\n",
    "                Name (and associated path if not in current working directory)\n",
    "                of the matrix file that contains the scoring matrix.\n",
    "\n",
    "        Returns:\n",
    "            dict_sub: dict\n",
    "                Substitution matrix dictionary with tuple of the two residues as\n",
    "                the key and score as value e.g. {('A', 'A'): 4} or {('A', 'D'): -8}\n",
    "        \"\"\"\n",
    "        with open(sub_matrix_file, 'r') as f:\n",
    "            dict_sub = {}  # Dictionary for storing scores from sub matrix\n",
    "            residue_list = []  # For storing residue list\n",
    "            start = False  # trigger for reading in score values\n",
    "            res_2 = 0  # used for generating substitution matrix\n",
    "            # reading file line by line\n",
    "            for line_num, line in enumerate(f):\n",
    "                # Reading in residue list\n",
    "                if '#' not in line.strip() and start is False:\n",
    "                    residue_list = [k for k in line.strip().upper().split(' ') if k != '']\n",
    "                    start = True\n",
    "                # Generating substitution scoring dictionary\n",
    "                elif start is True and res_2 < len(residue_list):\n",
    "                    line = [k for k in line.strip().split(' ') if k != '']\n",
    "                    # reading in line by line to create substitution dictionary\n",
    "                    assert len(residue_list) == len(line), \"Score line should be same length as residue list\"\n",
    "                    for res_1 in range(len(line)):\n",
    "                        dict_sub[(residue_list[res_1], residue_list[res_2])] = float(line[res_1])\n",
    "                    res_2 += 1\n",
    "                elif start is True and res_2 == len(residue_list):\n",
    "                    break\n",
    "        return dict_sub\n",
    "test_read1 = _read_sub_matrix(\"substitution_matrices/BLOSUM62.mat\")\n",
    "\n",
    "def read_fasta(fasta_file: str) -> Tuple[str, str]:\n",
    "    \"\"\"\n",
    "    DO NOT MODIFY THIS FUNCTION! IT IS ALREADY COMPLETE!\n",
    "\n",
    "    This function reads in a FASTA file and returns the associated\n",
    "    string of characters (residues or nucleotides) and the header.\n",
    "    This function assumes a single protein or nucleotide sequence\n",
    "    per fasta file and will only read in the first sequence in the\n",
    "    file if multiple are provided.\n",
    "\n",
    "    Parameters:\n",
    "        fasta_file: str\n",
    "            name (and associated path if not in current working directory)\n",
    "            of the Fasta file.\n",
    "\n",
    "    Returns:\n",
    "        seq: str\n",
    "            String of characters from FASTA file\n",
    "        header: str\n",
    "            Fasta header\n",
    "    \"\"\"\n",
    "    assert fasta_file.endswith(\".fa\"), \"Fasta file must be a fasta file with the suffix .fa\"\n",
    "    with open(fasta_file) as f:\n",
    "        seq = \"\"  # initializing sequence\n",
    "        first_header = True\n",
    "        for line in f:\n",
    "            is_header = line.strip().startswith(\">\")\n",
    "            # Reading in the first header\n",
    "            if is_header and first_header:\n",
    "                header = line.strip()  # reading in fasta header\n",
    "                first_header = False\n",
    "            # Reading in the sequence line by line\n",
    "            elif not is_header:\n",
    "                seq += line.strip().upper()  # generating full sequence\n",
    "            # Breaking if more than one header is provided in the fasta file\n",
    "            elif is_header and not first_header:\n",
    "                break\n",
    "    return seq, header\n",
    "\n",
    "seqA,_ = read_fasta('data/test_seq1.fa')\n",
    "seqB,_ = read_fasta('data/test_seq2.fa')\n"
   ]
  },
  {
   "cell_type": "code",
   "execution_count": 6,
   "metadata": {},
   "outputs": [
    {
     "name": "stdout",
     "output_type": "stream",
     "text": [
      "Alignment Score: 4.0\n",
      "Aligned SeqA: MYQR\n",
      "Aligned SeqB: M-QR\n"
     ]
    }
   ],
   "source": [
    "# Assuming NeedlemanWunschV2 and blosum62 are defined as shown previously\n",
    "\n",
    "# Define gap penalties\n",
    "gap_open = -10\n",
    "gap_extend = -1\n",
    "\n",
    "# Create an instance of NeedlemanWunschV2\n",
    "nw = NeedlemanWunsch(gap_open=gap_open, gap_extend=gap_extend, sub_matrix_file=\"substitution_matrices/BLOSUM62.mat\")\n",
    "\n",
    "# Define two sequences to align\n",
    "# seqA = \"AGTACG\"\n",
    "# seqB = \"ACG\"\n",
    "\n",
    "# Perform the alignment\n",
    "score, alignedA, alignedB = nw.align(seqA, seqB)\n",
    "\n",
    "# Print the results\n",
    "print(f\"Alignment Score: {score}\")\n",
    "print(f\"Aligned SeqA: {alignedA}\")\n",
    "print(f\"Aligned SeqB: {alignedB}\")"
   ]
  },
  {
   "cell_type": "code",
   "execution_count": 9,
   "metadata": {},
   "outputs": [
    {
     "data": {
      "text/plain": [
       "array([[  0., -10., -11., -12.],\n",
       "       [-10.,   5.,  -6.,  -7.],\n",
       "       [-11.,  -6.,   4.,  -7.],\n",
       "       [-12.,  -7.,  -1.,   5.],\n",
       "       [-13.,  -8.,  -6.,   4.]])"
      ]
     },
     "execution_count": 9,
     "metadata": {},
     "output_type": "execute_result"
    }
   ],
   "source": [
    "nw.score_matrix\n"
   ]
  },
  {
   "cell_type": "code",
   "execution_count": null,
   "metadata": {},
   "outputs": [],
   "source": []
  }
 ],
 "metadata": {
  "kernelspec": {
   "display_name": "ucsfbp",
   "language": "python",
   "name": "python3"
  },
  "language_info": {
   "codemirror_mode": {
    "name": "ipython",
    "version": 3
   },
   "file_extension": ".py",
   "mimetype": "text/x-python",
   "name": "python",
   "nbconvert_exporter": "python",
   "pygments_lexer": "ipython3",
   "version": "3.11.4"
  }
 },
 "nbformat": 4,
 "nbformat_minor": 2
}
